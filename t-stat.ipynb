{
 "cells": [
  {
   "cell_type": "code",
   "execution_count": 1,
   "id": "d808adb4-503f-4cef-811d-a27ec885108c",
   "metadata": {},
   "outputs": [],
   "source": [
    "from utils import *"
   ]
  },
  {
   "cell_type": "code",
   "execution_count": 2,
   "id": "43633dad-4b0a-4d6c-88d0-98cf18684434",
   "metadata": {},
   "outputs": [],
   "source": [
    "from scipy.stats import ttest_ind"
   ]
  },
  {
   "cell_type": "code",
   "execution_count": 3,
   "id": "430e7b9a-3ae8-46f1-86b8-87a7d269ff38",
   "metadata": {},
   "outputs": [],
   "source": [
    "gene_data = pd.read_excel(\"data/t-Test File.xlsx\", sheet_name=None)"
   ]
  },
  {
   "cell_type": "code",
   "execution_count": 4,
   "id": "e18dd275-71aa-4b58-b65e-1bf800eb9eb9",
   "metadata": {},
   "outputs": [
    {
     "data": {
      "text/plain": [
       "dict_keys(['BALBc 7D', 'BALBc 15D', 'C57 7D', 'C57 15D'])"
      ]
     },
     "execution_count": 4,
     "metadata": {},
     "output_type": "execute_result"
    }
   ],
   "source": [
    "gene_data.keys()"
   ]
  },
  {
   "cell_type": "code",
   "execution_count": 5,
   "id": "8a7d6666-3fb7-4c9b-94c2-fdb354ae8d5f",
   "metadata": {},
   "outputs": [],
   "source": [
    "gene_data_m1_7 = gene_data['C57 7D']\n",
    "gene_data_m2_7 = gene_data['BALBc 7D']\n",
    "gene_data_m1_15 = gene_data['C57 15D']\n",
    "gene_data_m2_15 = gene_data['BALBc 15D']"
   ]
  },
  {
   "cell_type": "code",
   "execution_count": 6,
   "id": "822b3650-5a1b-42e9-8844-89e240165f81",
   "metadata": {},
   "outputs": [],
   "source": [
    "def all_comb_7(gene_data_str):\n",
    "\n",
    "    gene_data_curr = globals()[gene_data_str]\n",
    "    \n",
    "    tmpdf = pd.DataFrame()\n",
    "    with pd.ExcelWriter(f\"generated/{gene_data_str}.xlsx\", mode='w') as writer:\n",
    "        tmpdf.to_excel(writer)\n",
    "    for i in gene_data_curr['gene']:\n",
    "        curr_gene = gene_data_curr[gene_data_curr['gene'] == i].drop(columns=['gene']).iloc[0]\n",
    "        curr_df = pd.DataFrame(columns=['comparison', 't', 'p'])\n",
    "    \n",
    "        d7l = ['con', 'ab', 'dss', 'dab']\n",
    "        m = 0\n",
    "        donel = []\n",
    "        for j in d7l:\n",
    "            for k in d7l:\n",
    "                donel.append((j, k))\n",
    "                if not (k, j) in donel:\n",
    "                    t, p = ttest_ind(curr_gene[[f'{j}1', f'{j}2', f'{j}3']], curr_gene[[f'{k}1', f'{k}2', f'{k}3']])\n",
    "                    curr_df.at[m, 'comparison'] = f'{j} - {k}'\n",
    "                    curr_df.at[m, 't'] = t\n",
    "                    curr_df.at[m, 'p'] = p\n",
    "                    m += 1\n",
    "        with pd.ExcelWriter(f\"generated/{gene_data_str}.xlsx\", mode='a', if_sheet_exists='replace') as writer:\n",
    "            curr_df.to_excel(writer, sheet_name=i)"
   ]
  },
  {
   "cell_type": "code",
   "execution_count": 7,
   "id": "2704b4bf-9917-45e8-aa8b-3d65f0797a17",
   "metadata": {},
   "outputs": [],
   "source": [
    "all_comb_7('gene_data_m1_7')\n",
    "all_comb_7('gene_data_m2_7')"
   ]
  },
  {
   "cell_type": "code",
   "execution_count": 8,
   "id": "4a514543-4b4a-4b21-a185-9b2b7e8e049d",
   "metadata": {},
   "outputs": [],
   "source": [
    "def all_comb_15(gene_data_str):\n",
    "    gene_data_curr = globals()[gene_data_str]\n",
    "    tmpdf = pd.DataFrame()\n",
    "    with pd.ExcelWriter(f\"generated/{gene_data_str}.xlsx\", mode='w') as writer:\n",
    "        tmpdf.to_excel(writer)\n",
    "    for i in gene_data_curr['gene']:\n",
    "        curr_gene = gene_data_curr[gene_data_curr['gene'] == i].drop(columns=['gene']).iloc[0]\n",
    "        curr_df = pd.DataFrame(columns=['comparison', 't', 'p'])\n",
    "    \n",
    "        d15l = ['con_con', 'dss_ab', 'ab_dss', 'ab_h2o', 'dss_h2o', 'dab_h2o']\n",
    "        m = 0\n",
    "        donel = []\n",
    "        for j in d15l:\n",
    "            for k in d15l:\n",
    "                donel.append((j, k))\n",
    "                if not (k, j) in donel:\n",
    "                    t, p = ttest_ind(curr_gene[[f'{j}_1', f'{j}_2', f'{j}_3']], curr_gene[[f'{k}_1', f'{k}_2', f'{k}_3']])\n",
    "                    curr_df.at[m, 'comparison'] = f'{j} - {k}'\n",
    "                    curr_df.at[m, 't'] = t\n",
    "                    curr_df.at[m, 'p'] = p\n",
    "                    m += 1\n",
    "        with pd.ExcelWriter(f\"generated/{gene_data_str}.xlsx\", mode='a', if_sheet_exists='replace') as writer:\n",
    "            curr_df.to_excel(writer, sheet_name=i)"
   ]
  },
  {
   "cell_type": "code",
   "execution_count": 9,
   "id": "f4297587-b3b6-45bb-99d6-b8f6e2c7e82a",
   "metadata": {},
   "outputs": [],
   "source": [
    "all_comb_15('gene_data_m1_15')\n",
    "all_comb_15('gene_data_m2_15')"
   ]
  }
 ],
 "metadata": {
  "kernelspec": {
   "display_name": "Python 3 (ipykernel)",
   "language": "python",
   "name": "python3"
  },
  "language_info": {
   "codemirror_mode": {
    "name": "ipython",
    "version": 3
   },
   "file_extension": ".py",
   "mimetype": "text/x-python",
   "name": "python",
   "nbconvert_exporter": "python",
   "pygments_lexer": "ipython3",
   "version": "3.11.2"
  }
 },
 "nbformat": 4,
 "nbformat_minor": 5
}
