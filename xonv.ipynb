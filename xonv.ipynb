{
 "cells": [
  {
   "cell_type": "code",
   "execution_count": 1,
   "id": "f57b27ce-8eb0-4094-b7b4-4b3d70613f1e",
   "metadata": {},
   "outputs": [],
   "source": [
    "import numpy as np\n",
    "import pandas as pd\n",
    "import os\n",
    "import math"
   ]
  },
  {
   "cell_type": "code",
   "execution_count": 2,
   "id": "e44308c8-797e-44af-a0a2-d2d01ec4de18",
   "metadata": {},
   "outputs": [],
   "source": [
    "def read_data(src):\n",
    "    globals()[f'dvars_{src}'] = []\n",
    "    for i in os.listdir(f\"data/{src}/\"):\n",
    "        path = i\n",
    "        i = i.replace('DSS_9AB', 'DAB').replace('9AB', 'AB')\n",
    "        j = i[:i.index(f'({src[0].upper()})')].split('+')\n",
    "        day = ''\n",
    "        treatm = ''\n",
    "        if len(j) == 1:\n",
    "            day = j[0][:j[0].index('D')]\n",
    "            treatm = j[0].split(' ')[1].lower()\n",
    "        else:\n",
    "            day = '15'\n",
    "            treatm = j[0].split(' ')[1].lower() + '_' + j[1].split(' ')[1].lower()\n",
    "        dvar = f'{src}_{day}_{treatm}'.replace('h20', 'h2o')\n",
    "        globals()[f'dvars_{src}'].append([dvar, day, treatm])\n",
    "        globals()[dvar] = pd.read_excel(f\"data/{src}/{path}\",\n",
    "                                        sheet_name=None)"
   ]
  },
  {
   "cell_type": "code",
   "execution_count": 3,
   "id": "b6bab22c-e847-45a1-86c8-07ab485d9afe",
   "metadata": {},
   "outputs": [],
   "source": [
    "def split_data():\n",
    "    globals()[\"dvars_cecal_mouse_1\"] = []\n",
    "    globals()[\"dvars_cecal_mouse_2\"] = []\n",
    "    globals()[\"dvars_serum_mouse_1\"] = []\n",
    "    globals()[\"dvars_serum_mouse_2\"] = []\n",
    "    for row in dvars_cecal:\n",
    "        i = row[0]\n",
    "        for j in [1, 2]:\n",
    "            globals()[f\"{i}_mouse_{j}\"] = globals()[i][list(globals()[i].keys())[j-1]]\n",
    "            globals()[f\"dvars_cecal_mouse_{j}\"].append([f\"{i}_mouse_{j}\", row[1], row[2]])\n",
    "    for row in dvars_serum:\n",
    "        i = row[0]\n",
    "        for j in [1, 2]:\n",
    "            globals()[f\"{i}_mouse_{j}\"] = globals()[i][list(globals()[i].keys())[j-1]]\n",
    "            globals()[f\"dvars_serum_mouse_{j}\"].append([f\"{i}_mouse_{j}\", row[1], row[2]])"
   ]
  },
  {
   "cell_type": "code",
   "execution_count": 4,
   "id": "9a7f01cc-c9d2-4c59-a7c0-b4fa50b7bac2",
   "metadata": {},
   "outputs": [],
   "source": [
    "read_data(\"serum\")\n",
    "read_data(\"cecal\")\n",
    "split_data()"
   ]
  },
  {
   "cell_type": "code",
   "execution_count": 5,
   "id": "2a6f095c-d20d-407a-a708-fe8448194053",
   "metadata": {},
   "outputs": [],
   "source": [
    "def save_data_reps(davars, name):\n",
    "    for r in [0, 1, 2]:\n",
    "        df = pd.DataFrame(columns=['Metabolite Name'] + [x[0] for x in davars])\n",
    "        cmdfs = [globals()[i]['Metabolite Name'] for i in [x[0] for x in davars]]\n",
    "        mdf = pd.concat(cmdfs).drop_duplicates().reset_index(drop=True)\n",
    "        df['Metabolite Name'] = mdf\n",
    "        for i in [x[0] for x in davars]:\n",
    "            cdf = globals()[i][['Metabolite Name', f'rep_{r}']]\n",
    "            df = df.merge(cdf, on='Metabolite Name', how='left')\n",
    "            df[i] = df[f'rep_{r}'].fillna(df[i]).astype(float)\n",
    "            df = df.drop(f'rep_{r}', axis=1)\n",
    "        df = df.fillna(0)\n",
    "        seriesmet = df['Metabolite Name']\n",
    "        df = df.drop('Metabolite Name', axis = 1)\n",
    "        df = df.rename(columns = lambda x: x[6:-8])\n",
    "        df['Metabolite Name'] = seriesmet\n",
    "        df.to_hdf(f\"generated/a_{name}.hdf5\", f'rep_{r}')"
   ]
  },
  {
   "cell_type": "code",
   "execution_count": 6,
   "id": "8460d530-fbd7-4f76-bc67-5f887a4b2285",
   "metadata": {},
   "outputs": [],
   "source": [
    "save_data_reps(dvars_cecal_mouse_1, 'cecal_mouse_1')\n",
    "save_data_reps(dvars_serum_mouse_1, 'serum_mouse_1')\n",
    "save_data_reps(dvars_cecal_mouse_2, 'cecal_mouse_2')\n",
    "save_data_reps(dvars_serum_mouse_2, 'serum_mouse_2')"
   ]
  }
 ],
 "metadata": {
  "kernelspec": {
   "display_name": "Python 3 (ipykernel)",
   "language": "python",
   "name": "python3"
  },
  "language_info": {
   "codemirror_mode": {
    "name": "ipython",
    "version": 3
   },
   "file_extension": ".py",
   "mimetype": "text/x-python",
   "name": "python",
   "nbconvert_exporter": "python",
   "pygments_lexer": "ipython3",
   "version": "3.11.2"
  }
 },
 "nbformat": 4,
 "nbformat_minor": 5
}
