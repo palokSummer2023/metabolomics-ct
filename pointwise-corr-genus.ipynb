{
 "cells": [
  {
   "cell_type": "code",
   "execution_count": 1,
   "id": "78f64ad1-eef8-45ac-8e91-62f119f53a67",
   "metadata": {},
   "outputs": [],
   "source": [
    "from utils import *"
   ]
  },
  {
   "cell_type": "code",
   "execution_count": 2,
   "id": "de3aecc9-9c63-46f8-a810-d5ddf5066d78",
   "metadata": {},
   "outputs": [],
   "source": [
    "from scipy.stats import pearsonr\n",
    "import seaborn as sns\n",
    "from IPython.display import Markdown"
   ]
  },
  {
   "cell_type": "code",
   "execution_count": 3,
   "id": "6a4e9fed-671c-4720-8851-5b1b3bcb4bc7",
   "metadata": {},
   "outputs": [],
   "source": [
    "import warnings\n",
    "warnings.filterwarnings('ignore')"
   ]
  },
  {
   "cell_type": "code",
   "execution_count": 4,
   "id": "4cef21a9-18e1-482c-a123-4a8022b6f504",
   "metadata": {},
   "outputs": [],
   "source": [
    "bac = pd.read_excel(\"data/bac_genus.xlsx\", sheet_name=None)"
   ]
  },
  {
   "cell_type": "code",
   "execution_count": 5,
   "id": "386b161c-e998-457d-a7e8-507436c2b75d",
   "metadata": {},
   "outputs": [
    {
     "data": {
      "text/plain": [
       "Index(['Genus', 'd0con', 'd7con', 'd15con', 'd7ab', 'd15dss_ab', 'd7dss',\n",
       "       'd15ab_dss', 'd15dss_h2o', 'd15ab_h2o', 'd7dab', 'd15dab_h2o'],\n",
       "      dtype='object')"
      ]
     },
     "execution_count": 5,
     "metadata": {},
     "output_type": "execute_result"
    }
   ],
   "source": [
    "bac['m1_rep1'].keys()"
   ]
  },
  {
   "cell_type": "code",
   "execution_count": 6,
   "id": "48d4db27-3b1d-41e1-af92-e2a84f807dd0",
   "metadata": {},
   "outputs": [],
   "source": [
    "points_bac = ['d0con', 'd7con', 'd7dss', 'd7ab', 'd7dab', 'd15con', 'd15dss_ab', 'd15ab_dss', 'd15dss_h2o', 'd15ab_h2o', 'd15dab_h2o']"
   ]
  },
  {
   "cell_type": "code",
   "execution_count": 7,
   "id": "2628cdfa-1d77-4359-aaf8-516f6f6c0be3",
   "metadata": {},
   "outputs": [],
   "source": [
    "genus_list = np.array(bac['m1_rep1']['Genus'])"
   ]
  },
  {
   "cell_type": "code",
   "execution_count": 8,
   "id": "1f4fd53e-2e89-49db-a71c-fd83d5d90fb0",
   "metadata": {},
   "outputs": [],
   "source": [
    "points_mb = ['0_con', '7_con', '7_dss', '7_ab', '7_dab', '15_con', '15_dss_ab', '15_ab_dss', '15_dss_h2o', '15_ab_h2o', '15_dab_h2o']"
   ]
  },
  {
   "cell_type": "markdown",
   "id": "e9e47503-1ce1-4173-9725-7ed0268e294d",
   "metadata": {},
   "source": [
    "### elimination procedure\n",
    "\n",
    "for metabolites we consider cvfiltered list\n",
    "\n",
    "for bacteria data the selecton ids based on where it has two or more non zero values corresponding to 3 replicated."
   ]
  },
  {
   "cell_type": "markdown",
   "id": "50520bbd-6ada-4834-b361-d20df8d91723",
   "metadata": {},
   "source": [
    "#### m1"
   ]
  },
  {
   "cell_type": "code",
   "execution_count": 9,
   "id": "6a8b2c5a-a46c-4a08-8b4d-ea5797ddd117",
   "metadata": {},
   "outputs": [],
   "source": [
    "! mkdir -p generated/pointcorr/m1\n",
    "! mkdir -p generated/pointcorr/m1/raw"
   ]
  },
  {
   "cell_type": "code",
   "execution_count": 10,
   "id": "63e091db-b919-4436-885f-f7b07bb3c7af",
   "metadata": {},
   "outputs": [
    {
     "name": "stdout",
     "output_type": "stream",
     "text": [
      "Alistipes Anaerotruncus Bacteroides Blautia Clostridium Desulfovibrio Eubacterium Gastranaerophilales Helicobacter Incertae_Sedis Lachnospiraceae Marvinbryantia Mucispirillum Muribaculaceae Prevotellaceae Rikenella Ruminococcus Sphingomonas UBA1819 UCG-009 (20, 16028)\n",
      "A2 Acetatifactor Anaerotruncus Bacteroides Blautia Clostridium Desulfovibrio Enterorhabdus Eubacterium GCA-900066575 Helicobacter Incertae_Sedis Lachnoclostridium Lachnospiraceae Marvinbryantia Muribaculaceae Oscillibacter Roseburia Ruminococcus Sphingomonas UBA1819 (21, 15390)\n",
      "Anaerotruncus Bacteroides Blautia Clostridium Eubacterium Helicobacter Incertae_Sedis Lachnospiraceae Muribaculaceae Ruminococcus Sphingomonas UBA1819 (12, 16150)\n",
      "Ochrobactrum Sphingomonas (2, 1648)\n",
      "Akkermansia Anaerosporobacter_mobilis Anaerotruncus Blautia Clostridium Enterobacter Erysipelatoclostridium Eubacterium Intestinimonas Lachnoclostridium Lachnotalea Muribaculaceae Robinsoniella Ruminococcus Sphingomonas Turicibacter (16, 16347)\n",
      "A2 Acetatifactor Alistipes Anaerotruncus Bacteroides Blautia Clostridium Desulfovibrio Enterorhabdus Eubacterium GCA-900066575 Helicobacter Incertae_Sedis Lachnoclostridium Lachnospiraceae Mucispirillum Muribaculaceae Oscillibacter Roseburia Ruminococcus Sphingomonas (21, 16828)\n",
      "Acinetobacter Alistipes Bacteroides Chloroplast Helicobacter Mitochondria Muribaculaceae Ochrobactrum Paracoccus Ruminococcus Sphingomonas Staphylococcus (12, 13241)\n",
      "Acetatifactor Anaerotruncus Blautia Eubacterium Incertae_Sedis Lachnospiraceae Sphingomonas (7, 13500)\n",
      "Akkermansia Anaerotruncus Bacteroides Blautia Desulfovibrio Eubacterium Gastranaerophilales GCA-900066575 Helicobacter Incertae_Sedis Lachnoclostridium Lachnospiraceae Muribaculaceae Oscillibacter Prevotellaceae Ruminococcus Sphingomonas UBA1819 UCG-005 UCG-009 (20, 15993)\n",
      "A2 Akkermansia Anaerotruncus Bacteroides Blautia Eubacterium Incertae_Sedis Lachnoclostridium Lachnospiraceae Muribaculaceae Prevotellaceae Sphingomonas (12, 15675)\n",
      "Akkermansia Blautia Clostridium Escherichia-Shigella Hungatella Incertae_Sedis Lachnoclostridium Muribaculaceae Parabacteroides Sphingomonas (10, 9090)\n"
     ]
    }
   ],
   "source": [
    "mb_m1 = list(pd.read_hdf('generated/a_cecal_mouse_1.hdf5', 'cvfiltered')['Metabolite Name'])\n",
    "for i, _ in enumerate(points_bac):\n",
    "    mb_rep1 = pd.read_hdf('generated/a_cecal_mouse_1.hdf5', 'rep_0')[['Metabolite Name', points_mb[i]]]\n",
    "    mb_rep2 = pd.read_hdf('generated/a_cecal_mouse_1.hdf5', 'rep_1')[['Metabolite Name', points_mb[i]]]\n",
    "    mb_rep3 = pd.read_hdf('generated/a_cecal_mouse_1.hdf5', 'rep_2')[['Metabolite Name', points_mb[i]]]\n",
    "\n",
    "    mb_rep1 = mb_rep1.rename(columns={points_mb[i] : 'rep1'})\n",
    "    mb_rep2 = mb_rep2.rename(columns={points_mb[i] : 'rep2'})\n",
    "    mb_rep3 = mb_rep3.rename(columns={points_mb[i] : 'rep3'})\n",
    "\n",
    "    merged_mb = mb_rep1.merge(mb_rep2, how='inner', on='Metabolite Name')\n",
    "    merged_mb = merged_mb.merge(mb_rep3, how='inner', on='Metabolite Name')\n",
    "\n",
    "    merged_mb = merged_mb.set_index('Metabolite Name')\n",
    "    merged_mb = merged_mb[['rep1', 'rep2', 'rep3']]\n",
    "\n",
    "\n",
    "    bac_rep1 = bac['m1_rep1'][['Genus', points_bac[i]]]\n",
    "    bac_rep2 = bac['m1_rep2'][['Genus', points_bac[i]]]\n",
    "    bac_rep3 = bac['m1_rep3'][['Genus', points_bac[i]]]\n",
    "\n",
    "    bac_rep1 = bac_rep1.rename(columns={points_bac[i] : 'rep1'})\n",
    "    bac_rep2 = bac_rep2.rename(columns={points_bac[i] : 'rep2'})\n",
    "    bac_rep3 = bac_rep3.rename(columns={points_bac[i] : 'rep3'})\n",
    "\n",
    "    merged_bac = bac_rep1.merge(bac_rep2, how='inner', on='Genus')\n",
    "    merged_bac = merged_bac.merge(bac_rep3, how='inner', on='Genus')\n",
    "\n",
    "    merged_bac = merged_bac.set_index('Genus')\n",
    "    merged_bac = merged_bac[['rep1', 'rep2', 'rep3']]\n",
    "\n",
    "    mask1 = (merged_bac['rep1'] != 0)\n",
    "    mask2 = (merged_bac['rep2'] != 0)\n",
    "    mask3 = (merged_bac['rep3'] != 0)\n",
    "\n",
    "    maskall3 = mask1 & mask2 & mask3\n",
    "    maskall2 = (mask1 & mask2 & ~mask3) | (mask1 & ~mask2 & mask3) | (~mask1 & mask2 & mask3)\n",
    "\n",
    "    merged_bac = merged_bac[maskall3 | maskall2]\n",
    "\n",
    "    smatrix = np.zeros([len(merged_bac), len(merged_mb)])\n",
    "    pmatrix = np.zeros([len(merged_bac), len(merged_mb)])\n",
    "    for b in range(len(merged_bac)):\n",
    "        for j in range(len(merged_mb)):\n",
    "            s, p = pearsonr(merged_mb.iloc[j].to_numpy(), merged_bac.iloc[b].to_numpy())\n",
    "            smatrix[b, j] = s\n",
    "            pmatrix[b, j] = p\n",
    "        print(merged_bac.index[b], end=' ')\n",
    "    corr_df = pd.DataFrame(smatrix, columns=merged_mb.index, index=merged_bac.index)\n",
    "    smatrix_sig = smatrix.copy()\n",
    "\n",
    "    np.save(f\"generated/pointcorr/m1/raw/raw_S_genus_{points_bac[i]}.npy\", smatrix)\n",
    "    np.save(f\"generated/pointcorr/m1/raw/raw_P_genus_{points_bac[i]}.npy\", pmatrix)\n",
    "    \n",
    "    maskpm = pmatrix > 0.15      #    pearson p\n",
    "    smatrix_sig[maskpm] = 0\n",
    "    corr_df_sig = pd.DataFrame(smatrix_sig, columns=merged_mb.index, index=merged_bac.index)\n",
    "    corr_df_sig = corr_df_sig.fillna(0)\n",
    "    corr_df_sig = corr_df_sig.loc[(corr_df_sig != 0).any(axis=1)]\n",
    "    corr_df_sig = corr_df_sig.loc[:, (corr_df_sig != 0).any(axis=0)]\n",
    "    corr_df_sig[corr_df_sig == 0] = np.nan\n",
    "    print(corr_df_sig.shape)\n",
    "\n",
    "    corr_df_sig.to_csv(f\"generated/pointcorr/m1/genus_{points_bac[i]}.csv\")\n",
    "    \n",
    "    # pyplot.rcParams['figure.figsize'] = (25, 15)\n",
    "    # try:\n",
    "    #     sns.heatmap(corr_df_sig, cmap='coolwarm')\n",
    "    #     pyplot.title(f'm1_genus_mb_{points_bac[i]}')\n",
    "    #     pyplot.show()\n",
    "    # except:\n",
    "    #     print('can\\'t plot', points_bac[i])\n",
    "    #     pyplot.cla()"
   ]
  },
  {
   "cell_type": "markdown",
   "id": "765871e1-2964-423d-a6d7-7bc1c1b9a968",
   "metadata": {},
   "source": [
    "#### m2"
   ]
  },
  {
   "cell_type": "code",
   "execution_count": 11,
   "id": "f64c1d61-92da-434b-8a82-7b92cfb5b304",
   "metadata": {},
   "outputs": [],
   "source": [
    "! mkdir -p generated/pointcorr/m2\n",
    "! mkdir -p generated/pointcorr/m2/raw"
   ]
  },
  {
   "cell_type": "code",
   "execution_count": 12,
   "id": "72ad9c3f-9c50-4e2b-9683-a598d6fb9708",
   "metadata": {},
   "outputs": [
    {
     "name": "stdout",
     "output_type": "stream",
     "text": [
      "A2 Acetatifactor Anaeroplasma Bacteroides Blautia Candidatus_Saccharimonas Clostridium Eubacterium GCA-900066575 Helicobacter Incertae_Sedis Lachnoclostridium Lachnospiraceae Muribaculaceae Odoribacter Oscillibacter Parabacteroides Prevotellaceae Rikenella Roseburia Ruminococcus Sphingomonas (22, 16791)\n",
      "A2 Acetatifactor Bacteroides Clostridium Desulfovibrio Eubacterium F082 GCA-900066575 Helicobacter Incertae_Sedis Lachnoclostridium Lachnospiraceae Muribaculaceae Odoribacter Oscillibacter Prevotellaceae Rikenella Roseburia Ruminococcus Sphingomonas (20, 16331)\n",
      "Anaerotruncus Bacteroides GCA-900066575 Helicobacter Incertae_Sedis Lachnospiraceae Muribaculaceae Ruminococcus Sphingomonas (9, 12936)\n",
      "Bacteroides Helicobacter Sphingomonas (3, 2598)\n",
      "Bacteroides Blautia Clostridium Erysipelatoclostridium Eubacterium Lachnoclostridium Lachnospiraceae Marvinbryantia Ruminococcus Sphingomonas (10, 15412)\n",
      "A2 Acetatifactor Alistipes Anaerotruncus Bacteroides Blautia Clostridium Desulfovibrio Enterorhabdus F082 GCA-900066575 Helicobacter Incertae_Sedis Lachnoclostridium Lachnospiraceae Monoglobus Muribaculaceae Oscillibacter Roseburia Ruminococcus Sphingomonas (21, 16993)\n",
      "Bacteroides Incertae_Sedis Sphingomonas (3, 9582)\n",
      "Bacteroides Blautia Clostridium Eubacterium Helicobacter Incertae_Sedis Muribaculaceae (7, 5135)\n",
      "A2 Alistipes Anaerotruncus Bacteroides Blautia Clostridium Desulfovibrio Eubacterium Gastranaerophilales GCA-900066575 Helicobacter Incertae_Sedis Lachnoclostridium Lachnospiraceae Muribaculaceae Odoribacter Oscillibacter Prevotellaceae Rikenella Sphingomonas UCG-005 (21, 15719)\n",
      "A2 Akkermansia Bacteroides Blautia Clostridium Colidextribacter Desulfovibrio Enterorhabdus Eubacterium Helicobacter Incertae_Sedis Lachnoclostridium Lachnospiraceae Muribaculaceae Oscillibacter Sphingomonas (16, 16192)\n",
      "A2 Acetatifactor Anaerotruncus Bacteroides Blautia Clostridium Enterorhabdus Eubacterium Incertae_Sedis Lachnoclostridium Lachnospiraceae Muribaculaceae Oscillibacter Prevotellaceae Roseburia Ruminococcus Sphingomonas (17, 16650)\n"
     ]
    }
   ],
   "source": [
    "mb_m2 = list(pd.read_hdf('generated/a_cecal_mouse_2.hdf5', 'cvfiltered')['Metabolite Name'])\n",
    "for i, _ in enumerate(points_bac):\n",
    "    mb_rep1 = pd.read_hdf('generated/a_cecal_mouse_2.hdf5', 'rep_0')[['Metabolite Name', points_mb[i]]]\n",
    "    mb_rep2 = pd.read_hdf('generated/a_cecal_mouse_2.hdf5', 'rep_1')[['Metabolite Name', points_mb[i]]]\n",
    "    mb_rep3 = pd.read_hdf('generated/a_cecal_mouse_2.hdf5', 'rep_2')[['Metabolite Name', points_mb[i]]]\n",
    "\n",
    "    mb_rep1 = mb_rep1.rename(columns={points_mb[i] : 'rep1'})\n",
    "    mb_rep2 = mb_rep2.rename(columns={points_mb[i] : 'rep2'})\n",
    "    mb_rep3 = mb_rep3.rename(columns={points_mb[i] : 'rep3'})\n",
    "\n",
    "    merged_mb = mb_rep1.merge(mb_rep2, how='inner', on='Metabolite Name')\n",
    "    merged_mb = merged_mb.merge(mb_rep3, how='inner', on='Metabolite Name')\n",
    "\n",
    "    merged_mb = merged_mb.set_index('Metabolite Name')\n",
    "    merged_mb = merged_mb[['rep1', 'rep2', 'rep3']]\n",
    "\n",
    "\n",
    "    bac_rep1 = bac['m2_rep1'][['Genus', points_bac[i]]]\n",
    "    bac_rep2 = bac['m2_rep2'][['Genus', points_bac[i]]]\n",
    "    bac_rep3 = bac['m2_rep3'][['Genus', points_bac[i]]]\n",
    "\n",
    "    bac_rep1 = bac_rep1.rename(columns={points_bac[i] : 'rep1'})\n",
    "    bac_rep2 = bac_rep2.rename(columns={points_bac[i] : 'rep2'})\n",
    "    bac_rep3 = bac_rep3.rename(columns={points_bac[i] : 'rep3'})\n",
    "\n",
    "    merged_bac = bac_rep1.merge(bac_rep2, how='inner', on='Genus')\n",
    "    merged_bac = merged_bac.merge(bac_rep3, how='inner', on='Genus')\n",
    "\n",
    "    merged_bac = merged_bac.set_index('Genus')\n",
    "    merged_bac = merged_bac[['rep1', 'rep2', 'rep3']]\n",
    "\n",
    "    mask1 = (merged_bac['rep1'] != 0)\n",
    "    mask2 = (merged_bac['rep2'] != 0)\n",
    "    mask3 = (merged_bac['rep3'] != 0)\n",
    "\n",
    "    maskall3 = mask1 & mask2 & mask3\n",
    "    maskall2 = (mask1 & mask2 & ~mask3) | (mask1 & ~mask2 & mask3) | (~mask1 & mask2 & mask3)\n",
    "\n",
    "    merged_bac = merged_bac[maskall3 | maskall2]\n",
    "\n",
    "    smatrix = np.zeros([len(merged_bac), len(merged_mb)])\n",
    "    pmatrix = np.zeros([len(merged_bac), len(merged_mb)])\n",
    "    for b in range(len(merged_bac)):\n",
    "        for j in range(len(merged_mb)):\n",
    "            s, p = pearsonr(merged_mb.iloc[j].to_numpy(), merged_bac.iloc[b].to_numpy())\n",
    "            smatrix[b, j] = s\n",
    "            pmatrix[b, j] = p\n",
    "        print(merged_bac.index[b], end=' ')\n",
    "    corr_df = pd.DataFrame(smatrix, columns=merged_mb.index, index=merged_bac.index)\n",
    "    smatrix_sig = smatrix.copy()\n",
    "\n",
    "    np.save(f\"generated/pointcorr/m2/raw/raw_S_genus_{points_bac[i]}.npy\", smatrix)\n",
    "    np.save(f\"generated/pointcorr/m2/raw/raw_P_genus_{points_bac[i]}.npy\", pmatrix)\n",
    "    \n",
    "    maskpm = pmatrix > 0.15      #    pearson p\n",
    "    smatrix_sig[maskpm] = 0\n",
    "    corr_df_sig = pd.DataFrame(smatrix_sig, columns=merged_mb.index, index=merged_bac.index)\n",
    "    corr_df_sig = corr_df_sig.fillna(0)\n",
    "    corr_df_sig = corr_df_sig.loc[(corr_df_sig != 0).any(axis=1)]\n",
    "    corr_df_sig = corr_df_sig.loc[:, (corr_df_sig != 0).any(axis=0)]\n",
    "    corr_df_sig[corr_df_sig == 0] = np.nan\n",
    "    print(corr_df_sig.shape)\n",
    "\n",
    "    corr_df_sig.to_csv(f\"generated/pointcorr/m2/genus_{points_bac[i]}.csv\")\n",
    "    \n",
    "    # pyplot.rcParams['figure.figsize'] = (25, 15)\n",
    "    # try:\n",
    "    #     sns.heatmap(corr_df_sig, cmap='coolwarm')\n",
    "    #     pyplot.title(f'm2_genus_mb_{points_bac[i]}')\n",
    "    #     pyplot.show()\n",
    "    # except:\n",
    "    #     print('can\\'t plot', points_bac[i])\n",
    "    #     pyplot.cla()"
   ]
  }
 ],
 "metadata": {
  "kernelspec": {
   "display_name": "Python 3 (ipykernel)",
   "language": "python",
   "name": "python3"
  },
  "language_info": {
   "codemirror_mode": {
    "name": "ipython",
    "version": 3
   },
   "file_extension": ".py",
   "mimetype": "text/x-python",
   "name": "python",
   "nbconvert_exporter": "python",
   "pygments_lexer": "ipython3",
   "version": "3.11.2"
  }
 },
 "nbformat": 4,
 "nbformat_minor": 5
}
