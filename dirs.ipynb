{
 "cells": [
  {
   "cell_type": "code",
   "execution_count": 2,
   "id": "9d491a13-240e-4306-953c-0d47b4d47fe8",
   "metadata": {},
   "outputs": [],
   "source": [
    "! mkdir -p generated"
   ]
  },
  {
   "cell_type": "code",
   "execution_count": 6,
   "id": "623d05b6-1235-4530-b582-a8cfbc8fa9fd",
   "metadata": {},
   "outputs": [],
   "source": [
    "! mkdir -p generated/correationr/m1/phylum/\n",
    "! mkdir -p generated/correationr/m2/phylum/\n",
    "\n",
    "! mkdir -p generated/outliers/m1/phylum/pos\n",
    "! mkdir -p generated/outliers/m2/phylum/pos\n",
    "\n",
    "! mkdir -p generated/outliers/m1/phylum/neg\n",
    "! mkdir -p generated/outliers/m2/phylum/neg"
   ]
  },
  {
   "cell_type": "code",
   "execution_count": 5,
   "id": "6024b1da-6315-44a5-a0ff-c172afbe537a",
   "metadata": {},
   "outputs": [],
   "source": [
    "! mkdir -p generated/correationr/m1/genus/\n",
    "! mkdir -p generated/correationr/m2/genus/\n",
    "\n",
    "! mkdir -p generated/outliers/m1/genus/pos\n",
    "! mkdir -p generated/outliers/m2/genus/pos\n",
    "\n",
    "! mkdir -p generated/outliers/m1/genus/neg\n",
    "! mkdir -p generated/outliers/m2/genus/neg"
   ]
  },
  {
   "cell_type": "code",
   "execution_count": null,
   "id": "aab76dbb-5e2e-4d06-9ee1-cb0084c43cce",
   "metadata": {},
   "outputs": [],
   "source": []
  }
 ],
 "metadata": {
  "kernelspec": {
   "display_name": "Python 3 (ipykernel)",
   "language": "python",
   "name": "python3"
  },
  "language_info": {
   "codemirror_mode": {
    "name": "ipython",
    "version": 3
   },
   "file_extension": ".py",
   "mimetype": "text/x-python",
   "name": "python",
   "nbconvert_exporter": "python",
   "pygments_lexer": "ipython3",
   "version": "3.11.2"
  }
 },
 "nbformat": 4,
 "nbformat_minor": 5
}
