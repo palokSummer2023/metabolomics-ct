{
 "cells": [
  {
   "cell_type": "code",
   "execution_count": 1,
   "id": "48a92518-f040-4244-b59a-edf52f9554e4",
   "metadata": {},
   "outputs": [],
   "source": [
    "from utils import *"
   ]
  },
  {
   "cell_type": "code",
   "execution_count": 2,
   "id": "a6484017-0efe-4ed5-a89a-82878ca163af",
   "metadata": {},
   "outputs": [],
   "source": [
    "struct_df_file = {\n",
    "    'cec_m1' : 'a_cecal_mouse_1.hdf5',\n",
    "    'cec_m2' : 'a_cecal_mouse_2.hdf5',\n",
    "    'ser_m1' : 'a_serum_mouse_1.hdf5',\n",
    "    'ser_m2' : 'a_serum_mouse_2.hdf5'\n",
    "}"
   ]
  },
  {
   "cell_type": "code",
   "execution_count": 3,
   "id": "52f414cf-157b-4b51-b298-77a3d7508ea5",
   "metadata": {},
   "outputs": [],
   "source": [
    "for dfn in ['cec_m1', 'cec_m2', 'ser_m1', 'ser_m2']:\n",
    "    df1 = pd.read_hdf(f'generated/{struct_df_file[dfn]}', f'rep_0')\n",
    "    df2 = pd.read_hdf(f'generated/{struct_df_file[dfn]}', f'rep_1')\n",
    "    df3 = pd.read_hdf(f'generated/{struct_df_file[dfn]}', f'rep_2')\n",
    "    meandf = pd.DataFrame(columns=df1.keys())\n",
    "    meandf['Metabolite Name'] = df1['Metabolite Name']\n",
    "    meandf = meandf.fillna(0)\n",
    "    stddf = pd.DataFrame(columns=df1.keys())\n",
    "    stddf['Metabolite Name'] = df1['Metabolite Name']\n",
    "    stddf = stddf.fillna(0)\n",
    "    for k in df1.keys():\n",
    "        if k == 'Metabolite Name':\n",
    "            continue\n",
    "        # df1 = df1.reset_index(drop=True)\n",
    "        # df2 = df2.reset_index(drop=True)\n",
    "        # df3 = df3.reset_index(drop=True)\n",
    "        \n",
    "        mask1 = (df1[k] != 0)\n",
    "        mask2 = (df2[k] != 0)\n",
    "        mask3 = (df3[k] != 0)\n",
    "\n",
    "        maskall3 = mask1 & mask2 & mask3\n",
    "        maskall2 = (mask1 & mask2 & ~mask3) | (mask1 & ~mask2 & mask3) | (~mask1 & mask2 & mask3)\n",
    "    \n",
    "        # meandf.loc[mask1 & mask2 & mask3, k] = (df1[mask1 & mask2 & mask3][k] + df2[mask1 & mask2 & mask3][k] + df3[mask1 & mask2 & mask3][k]) / 3\n",
    "        # meandf.loc[maskatl2, k] = (df1[k][maskatl2] + df2[k][maskatl2] + df3[k][maskatl2]) / 2\n",
    "\n",
    "        meandf.loc[maskall3, k] = pd.DataFrame({'df1' : df1[maskall3][k], 'df2' : df2[maskall3][k], 'df3' : df3[maskall3][k]}).mean(axis=1)\n",
    "        meandf.loc[maskall2, k] = pd.DataFrame({'df1' : df1[maskall2][k], 'df2' : df2[maskall2][k], 'df3' : df3[maskall2][k]}).mean(axis=1)\n",
    "        meandf.loc[((~mask1 & ~mask2 & mask3) | (mask1 & ~mask2 & ~mask3) | (~mask1 & mask2 & ~mask3)), k] = np.nan\n",
    "\n",
    "\n",
    "        stddf.loc[maskall3, k] = pd.DataFrame({'df1' : df1[maskall3][k], 'df2' : df2[maskall3][k], 'df3' : df3[maskall3][k]}).std(axis=1)\n",
    "        stddf.loc[maskall2, k] = pd.DataFrame({'df1' : df1[maskall2][k], 'df2' : df2[maskall2][k], 'df3' : df3[maskall2][k]}).std(axis=1)\n",
    "        stddf.loc[((~mask1 & ~mask2 & mask3) | (mask1 & ~mask2 & ~mask3) | (~mask1 & mask2 & ~mask3)), k] = np.nan\n",
    "    \n",
    "        # stddf.loc[mask1 & mask2 & mask3, k] = np.std(df1[mask1 & mask2 & mask3][k] + df2[mask1 & mask2 & mask3][k] + df3[mask1 & mask2 & mask3][k])\n",
    "        # stddf.loc[maskatl2, k] = np.std(df1[(mask1 & mask2 & ~mask3) | (\n",
    "        #     mask1 & ~mask2 & mask3) ][k] + df2[(\n",
    "        #     mask1 & mask2 & ~mask3) | (~mask1 & mask2 & mask3)][k] + df3[(\n",
    "        #     mask1 & ~mask2 & mask3) | (~mask1 & mask2 & mask3)][k])\n",
    "        # stddf.loc[((~mask1 & ~mask2 & mask3) | (mask1 & ~mask2 & ~mask3) | (~mask1 & mask2 & ~mask3)), k] = np.nan\n",
    "    meandf = meandf.dropna()\n",
    "    stddf = stddf.dropna()\n",
    "    \n",
    "    meandf.to_hdf(f'generated/{struct_df_file[dfn]}', 'mean')\n",
    "    stddf.to_hdf(f'generated/{struct_df_file[dfn]}', 'std')"
   ]
  },
  {
   "cell_type": "code",
   "execution_count": 4,
   "id": "b6a00775-fc99-4911-9edf-5ab09624ac2d",
   "metadata": {},
   "outputs": [
    {
     "name": "stdout",
     "output_type": "stream",
     "text": [
      "cec_m1 74.44527549239591\n",
      "cec_m2 71.16733466933867\n",
      "ser_m1 72.5576983876067\n",
      "ser_m2 72.85617825793383\n"
     ]
    }
   ],
   "source": [
    "for dfn in ['cec_m1', 'cec_m2', 'ser_m1', 'ser_m2']:\n",
    "    meandf = pd.read_hdf(f'generated/{struct_df_file[dfn]}', 'mean')\n",
    "    stddf = pd.read_hdf(f'generated/{struct_df_file[dfn]}', 'std')\n",
    "\n",
    "    cvdf = meandf.copy()\n",
    "    notname = list(set(list(meandf.keys())) - set(['Metabolite Name']))\n",
    "    cvdf[notname] = stddf[notname]/meandf[notname]\n",
    "\n",
    "    cv15mask = cvdf[notname].iloc[:, 1:].lt(1.5).all(axis=1)\n",
    "\n",
    "    cvfiltered = meandf[cv15mask]\n",
    "    print(dfn, len(cvfiltered)*100/len(meandf))\n",
    "\n",
    "    cvfiltered.to_hdf(f'generated/{struct_df_file[dfn]}', 'cvfiltered')"
   ]
  }
 ],
 "metadata": {
  "kernelspec": {
   "display_name": "Python 3 (ipykernel)",
   "language": "python",
   "name": "python3"
  },
  "language_info": {
   "codemirror_mode": {
    "name": "ipython",
    "version": 3
   },
   "file_extension": ".py",
   "mimetype": "text/x-python",
   "name": "python",
   "nbconvert_exporter": "python",
   "pygments_lexer": "ipython3",
   "version": "3.11.2"
  }
 },
 "nbformat": 4,
 "nbformat_minor": 5
}
